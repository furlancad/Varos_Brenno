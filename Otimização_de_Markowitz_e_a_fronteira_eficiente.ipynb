{
  "nbformat": 4,
  "nbformat_minor": 0,
  "metadata": {
    "colab": {
      "provenance": [],
      "authorship_tag": "ABX9TyN0UHt7okUMguG1EKNa94EM",
      "include_colab_link": true
    },
    "kernelspec": {
      "name": "python3",
      "display_name": "Python 3"
    },
    "language_info": {
      "name": "python"
    }
  },
  "cells": [
    {
      "cell_type": "markdown",
      "metadata": {
        "id": "view-in-github",
        "colab_type": "text"
      },
      "source": [
        "<a href=\"https://colab.research.google.com/github/furlancad/Varos_Brenno/blob/main/Otimiza%C3%A7%C3%A3o_de_Markowitz_e_a_fronteira_eficiente.ipynb\" target=\"_parent\"><img src=\"https://colab.research.google.com/assets/colab-badge.svg\" alt=\"Open In Colab\"/></a>"
      ]
    },
    {
      "cell_type": "markdown",
      "source": [
        "Harry Markowitz criou em 1952 uma teoria que analise o risco de uma carteira de investimento.\n",
        "O objetivo do modelo é criar um portfólio que otimiza o risco-retorno dos investimentos disponíveis,\n",
        "escolhendo os pesos ideais pra cada ativo na carteira."
      ],
      "metadata": {
        "id": "yeVTT94uJ9ii"
      }
    },
    {
      "cell_type": "code",
      "source": [
        "!pip install -q pandas_datareader --upgrade"
      ],
      "metadata": {
        "id": "cyrCCZ2MK6VE"
      },
      "execution_count": 25,
      "outputs": []
    },
    {
      "cell_type": "code",
      "execution_count": 26,
      "metadata": {
        "id": "Pn6ipDPeJsU8"
      },
      "outputs": [],
      "source": [
        "import numpy as np\n",
        "import matplotlib.pyplot as plt\n",
        "import datetime as dt\n",
        "import pandas as pd\n",
        "from scipy.optimize import minimize\n",
        "import matplotlib.ticker as mtick\n",
        "\n",
        "import yfinance as yf"
      ]
    },
    {
      "cell_type": "code",
      "source": [
        "inicio = dt.datetime(2015, 1, 1)\n",
        "final = dt.datetime(2022, 12, 31)"
      ],
      "metadata": {
        "id": "2RDwJ1f_KCyd"
      },
      "execution_count": 27,
      "outputs": []
    },
    {
      "cell_type": "code",
      "source": [
        "lista_acoes = [\"WEGE3\", \"LREN3\", \"VALE3\", \"PETR4\", \"EQTL3\", \"EGIE3\"]\n",
        "lista_acoes = [acao + \".SA\" for acao in lista_acoes]\n",
        "#lista_acoes = [\"AAPL\", \"NKE\", \"GOOGL\", \"AMZN\"]\n",
        "\n",
        "precos = yf.download(lista_acoes,inicio,final)['Adj Close']\n",
        "precos.head()"
      ],
      "metadata": {
        "colab": {
          "base_uri": "https://localhost:8080/",
          "height": 255
        },
        "id": "3AEDS7ToKdMT",
        "outputId": "ef840b33-1ed9-4193-b5f5-e48887c652bd"
      },
      "execution_count": 28,
      "outputs": [
        {
          "output_type": "stream",
          "name": "stderr",
          "text": [
            "[*********************100%%**********************]  6 of 6 completed\n"
          ]
        },
        {
          "output_type": "execute_result",
          "data": {
            "text/plain": [
              "Ticker       EGIE3.SA  EQTL3.SA  LREN3.SA  PETR4.SA   VALE3.SA  WEGE3.SA\n",
              "Date                                                                    \n",
              "2015-01-02  14.298345  4.607600  9.231856  3.089933  12.060664  5.021036\n",
              "2015-01-05  14.315886  4.431673  8.975216  2.825836  11.879300  5.055270\n",
              "2015-01-06  14.605275  4.681321  9.078600  2.733402  12.355378  4.980280\n",
              "2015-01-07  14.973585  4.641110  9.233075  2.862149  12.808790  4.923223\n",
              "2015-01-08  15.127042  4.607600  9.244024  3.047016  12.944809  5.006364"
            ],
            "text/html": [
              "\n",
              "  <div id=\"df-19f3371d-a402-4397-80c8-caa76af6a64c\" class=\"colab-df-container\">\n",
              "    <div>\n",
              "<style scoped>\n",
              "    .dataframe tbody tr th:only-of-type {\n",
              "        vertical-align: middle;\n",
              "    }\n",
              "\n",
              "    .dataframe tbody tr th {\n",
              "        vertical-align: top;\n",
              "    }\n",
              "\n",
              "    .dataframe thead th {\n",
              "        text-align: right;\n",
              "    }\n",
              "</style>\n",
              "<table border=\"1\" class=\"dataframe\">\n",
              "  <thead>\n",
              "    <tr style=\"text-align: right;\">\n",
              "      <th>Ticker</th>\n",
              "      <th>EGIE3.SA</th>\n",
              "      <th>EQTL3.SA</th>\n",
              "      <th>LREN3.SA</th>\n",
              "      <th>PETR4.SA</th>\n",
              "      <th>VALE3.SA</th>\n",
              "      <th>WEGE3.SA</th>\n",
              "    </tr>\n",
              "    <tr>\n",
              "      <th>Date</th>\n",
              "      <th></th>\n",
              "      <th></th>\n",
              "      <th></th>\n",
              "      <th></th>\n",
              "      <th></th>\n",
              "      <th></th>\n",
              "    </tr>\n",
              "  </thead>\n",
              "  <tbody>\n",
              "    <tr>\n",
              "      <th>2015-01-02</th>\n",
              "      <td>14.298345</td>\n",
              "      <td>4.607600</td>\n",
              "      <td>9.231856</td>\n",
              "      <td>3.089933</td>\n",
              "      <td>12.060664</td>\n",
              "      <td>5.021036</td>\n",
              "    </tr>\n",
              "    <tr>\n",
              "      <th>2015-01-05</th>\n",
              "      <td>14.315886</td>\n",
              "      <td>4.431673</td>\n",
              "      <td>8.975216</td>\n",
              "      <td>2.825836</td>\n",
              "      <td>11.879300</td>\n",
              "      <td>5.055270</td>\n",
              "    </tr>\n",
              "    <tr>\n",
              "      <th>2015-01-06</th>\n",
              "      <td>14.605275</td>\n",
              "      <td>4.681321</td>\n",
              "      <td>9.078600</td>\n",
              "      <td>2.733402</td>\n",
              "      <td>12.355378</td>\n",
              "      <td>4.980280</td>\n",
              "    </tr>\n",
              "    <tr>\n",
              "      <th>2015-01-07</th>\n",
              "      <td>14.973585</td>\n",
              "      <td>4.641110</td>\n",
              "      <td>9.233075</td>\n",
              "      <td>2.862149</td>\n",
              "      <td>12.808790</td>\n",
              "      <td>4.923223</td>\n",
              "    </tr>\n",
              "    <tr>\n",
              "      <th>2015-01-08</th>\n",
              "      <td>15.127042</td>\n",
              "      <td>4.607600</td>\n",
              "      <td>9.244024</td>\n",
              "      <td>3.047016</td>\n",
              "      <td>12.944809</td>\n",
              "      <td>5.006364</td>\n",
              "    </tr>\n",
              "  </tbody>\n",
              "</table>\n",
              "</div>\n",
              "    <div class=\"colab-df-buttons\">\n",
              "\n",
              "  <div class=\"colab-df-container\">\n",
              "    <button class=\"colab-df-convert\" onclick=\"convertToInteractive('df-19f3371d-a402-4397-80c8-caa76af6a64c')\"\n",
              "            title=\"Convert this dataframe to an interactive table.\"\n",
              "            style=\"display:none;\">\n",
              "\n",
              "  <svg xmlns=\"http://www.w3.org/2000/svg\" height=\"24px\" viewBox=\"0 -960 960 960\">\n",
              "    <path d=\"M120-120v-720h720v720H120Zm60-500h600v-160H180v160Zm220 220h160v-160H400v160Zm0 220h160v-160H400v160ZM180-400h160v-160H180v160Zm440 0h160v-160H620v160ZM180-180h160v-160H180v160Zm440 0h160v-160H620v160Z\"/>\n",
              "  </svg>\n",
              "    </button>\n",
              "\n",
              "  <style>\n",
              "    .colab-df-container {\n",
              "      display:flex;\n",
              "      gap: 12px;\n",
              "    }\n",
              "\n",
              "    .colab-df-convert {\n",
              "      background-color: #E8F0FE;\n",
              "      border: none;\n",
              "      border-radius: 50%;\n",
              "      cursor: pointer;\n",
              "      display: none;\n",
              "      fill: #1967D2;\n",
              "      height: 32px;\n",
              "      padding: 0 0 0 0;\n",
              "      width: 32px;\n",
              "    }\n",
              "\n",
              "    .colab-df-convert:hover {\n",
              "      background-color: #E2EBFA;\n",
              "      box-shadow: 0px 1px 2px rgba(60, 64, 67, 0.3), 0px 1px 3px 1px rgba(60, 64, 67, 0.15);\n",
              "      fill: #174EA6;\n",
              "    }\n",
              "\n",
              "    .colab-df-buttons div {\n",
              "      margin-bottom: 4px;\n",
              "    }\n",
              "\n",
              "    [theme=dark] .colab-df-convert {\n",
              "      background-color: #3B4455;\n",
              "      fill: #D2E3FC;\n",
              "    }\n",
              "\n",
              "    [theme=dark] .colab-df-convert:hover {\n",
              "      background-color: #434B5C;\n",
              "      box-shadow: 0px 1px 3px 1px rgba(0, 0, 0, 0.15);\n",
              "      filter: drop-shadow(0px 1px 2px rgba(0, 0, 0, 0.3));\n",
              "      fill: #FFFFFF;\n",
              "    }\n",
              "  </style>\n",
              "\n",
              "    <script>\n",
              "      const buttonEl =\n",
              "        document.querySelector('#df-19f3371d-a402-4397-80c8-caa76af6a64c button.colab-df-convert');\n",
              "      buttonEl.style.display =\n",
              "        google.colab.kernel.accessAllowed ? 'block' : 'none';\n",
              "\n",
              "      async function convertToInteractive(key) {\n",
              "        const element = document.querySelector('#df-19f3371d-a402-4397-80c8-caa76af6a64c');\n",
              "        const dataTable =\n",
              "          await google.colab.kernel.invokeFunction('convertToInteractive',\n",
              "                                                    [key], {});\n",
              "        if (!dataTable) return;\n",
              "\n",
              "        const docLinkHtml = 'Like what you see? Visit the ' +\n",
              "          '<a target=\"_blank\" href=https://colab.research.google.com/notebooks/data_table.ipynb>data table notebook</a>'\n",
              "          + ' to learn more about interactive tables.';\n",
              "        element.innerHTML = '';\n",
              "        dataTable['output_type'] = 'display_data';\n",
              "        await google.colab.output.renderOutput(dataTable, element);\n",
              "        const docLink = document.createElement('div');\n",
              "        docLink.innerHTML = docLinkHtml;\n",
              "        element.appendChild(docLink);\n",
              "      }\n",
              "    </script>\n",
              "  </div>\n",
              "\n",
              "\n",
              "<div id=\"df-de076f27-9779-40cc-9976-15e192679989\">\n",
              "  <button class=\"colab-df-quickchart\" onclick=\"quickchart('df-de076f27-9779-40cc-9976-15e192679989')\"\n",
              "            title=\"Suggest charts\"\n",
              "            style=\"display:none;\">\n",
              "\n",
              "<svg xmlns=\"http://www.w3.org/2000/svg\" height=\"24px\"viewBox=\"0 0 24 24\"\n",
              "     width=\"24px\">\n",
              "    <g>\n",
              "        <path d=\"M19 3H5c-1.1 0-2 .9-2 2v14c0 1.1.9 2 2 2h14c1.1 0 2-.9 2-2V5c0-1.1-.9-2-2-2zM9 17H7v-7h2v7zm4 0h-2V7h2v10zm4 0h-2v-4h2v4z\"/>\n",
              "    </g>\n",
              "</svg>\n",
              "  </button>\n",
              "\n",
              "<style>\n",
              "  .colab-df-quickchart {\n",
              "      --bg-color: #E8F0FE;\n",
              "      --fill-color: #1967D2;\n",
              "      --hover-bg-color: #E2EBFA;\n",
              "      --hover-fill-color: #174EA6;\n",
              "      --disabled-fill-color: #AAA;\n",
              "      --disabled-bg-color: #DDD;\n",
              "  }\n",
              "\n",
              "  [theme=dark] .colab-df-quickchart {\n",
              "      --bg-color: #3B4455;\n",
              "      --fill-color: #D2E3FC;\n",
              "      --hover-bg-color: #434B5C;\n",
              "      --hover-fill-color: #FFFFFF;\n",
              "      --disabled-bg-color: #3B4455;\n",
              "      --disabled-fill-color: #666;\n",
              "  }\n",
              "\n",
              "  .colab-df-quickchart {\n",
              "    background-color: var(--bg-color);\n",
              "    border: none;\n",
              "    border-radius: 50%;\n",
              "    cursor: pointer;\n",
              "    display: none;\n",
              "    fill: var(--fill-color);\n",
              "    height: 32px;\n",
              "    padding: 0;\n",
              "    width: 32px;\n",
              "  }\n",
              "\n",
              "  .colab-df-quickchart:hover {\n",
              "    background-color: var(--hover-bg-color);\n",
              "    box-shadow: 0 1px 2px rgba(60, 64, 67, 0.3), 0 1px 3px 1px rgba(60, 64, 67, 0.15);\n",
              "    fill: var(--button-hover-fill-color);\n",
              "  }\n",
              "\n",
              "  .colab-df-quickchart-complete:disabled,\n",
              "  .colab-df-quickchart-complete:disabled:hover {\n",
              "    background-color: var(--disabled-bg-color);\n",
              "    fill: var(--disabled-fill-color);\n",
              "    box-shadow: none;\n",
              "  }\n",
              "\n",
              "  .colab-df-spinner {\n",
              "    border: 2px solid var(--fill-color);\n",
              "    border-color: transparent;\n",
              "    border-bottom-color: var(--fill-color);\n",
              "    animation:\n",
              "      spin 1s steps(1) infinite;\n",
              "  }\n",
              "\n",
              "  @keyframes spin {\n",
              "    0% {\n",
              "      border-color: transparent;\n",
              "      border-bottom-color: var(--fill-color);\n",
              "      border-left-color: var(--fill-color);\n",
              "    }\n",
              "    20% {\n",
              "      border-color: transparent;\n",
              "      border-left-color: var(--fill-color);\n",
              "      border-top-color: var(--fill-color);\n",
              "    }\n",
              "    30% {\n",
              "      border-color: transparent;\n",
              "      border-left-color: var(--fill-color);\n",
              "      border-top-color: var(--fill-color);\n",
              "      border-right-color: var(--fill-color);\n",
              "    }\n",
              "    40% {\n",
              "      border-color: transparent;\n",
              "      border-right-color: var(--fill-color);\n",
              "      border-top-color: var(--fill-color);\n",
              "    }\n",
              "    60% {\n",
              "      border-color: transparent;\n",
              "      border-right-color: var(--fill-color);\n",
              "    }\n",
              "    80% {\n",
              "      border-color: transparent;\n",
              "      border-right-color: var(--fill-color);\n",
              "      border-bottom-color: var(--fill-color);\n",
              "    }\n",
              "    90% {\n",
              "      border-color: transparent;\n",
              "      border-bottom-color: var(--fill-color);\n",
              "    }\n",
              "  }\n",
              "</style>\n",
              "\n",
              "  <script>\n",
              "    async function quickchart(key) {\n",
              "      const quickchartButtonEl =\n",
              "        document.querySelector('#' + key + ' button');\n",
              "      quickchartButtonEl.disabled = true;  // To prevent multiple clicks.\n",
              "      quickchartButtonEl.classList.add('colab-df-spinner');\n",
              "      try {\n",
              "        const charts = await google.colab.kernel.invokeFunction(\n",
              "            'suggestCharts', [key], {});\n",
              "      } catch (error) {\n",
              "        console.error('Error during call to suggestCharts:', error);\n",
              "      }\n",
              "      quickchartButtonEl.classList.remove('colab-df-spinner');\n",
              "      quickchartButtonEl.classList.add('colab-df-quickchart-complete');\n",
              "    }\n",
              "    (() => {\n",
              "      let quickchartButtonEl =\n",
              "        document.querySelector('#df-de076f27-9779-40cc-9976-15e192679989 button');\n",
              "      quickchartButtonEl.style.display =\n",
              "        google.colab.kernel.accessAllowed ? 'block' : 'none';\n",
              "    })();\n",
              "  </script>\n",
              "</div>\n",
              "\n",
              "    </div>\n",
              "  </div>\n"
            ],
            "application/vnd.google.colaboratory.intrinsic+json": {
              "type": "dataframe",
              "variable_name": "precos",
              "summary": "{\n  \"name\": \"precos\",\n  \"rows\": 1988,\n  \"fields\": [\n    {\n      \"column\": \"Date\",\n      \"properties\": {\n        \"dtype\": \"date\",\n        \"min\": \"2015-01-02 00:00:00\",\n        \"max\": \"2022-12-29 00:00:00\",\n        \"num_unique_values\": 1988,\n        \"samples\": [\n          \"2020-01-14 00:00:00\",\n          \"2018-01-12 00:00:00\",\n          \"2020-07-20 00:00:00\"\n        ],\n        \"semantic_type\": \"\",\n        \"description\": \"\"\n      }\n    },\n    {\n      \"column\": \"EGIE3.SA\",\n      \"properties\": {\n        \"dtype\": \"number\",\n        \"std\": 8.355546105127523,\n        \"min\": 13.088179588317871,\n        \"max\": 41.033836364746094,\n        \"num_unique_values\": 1756,\n        \"samples\": [\n          17.47230339050293,\n          17.22368812561035,\n          17.346500396728516\n        ],\n        \"semantic_type\": \"\",\n        \"description\": \"\"\n      }\n    },\n    {\n      \"column\": \"EQTL3.SA\",\n      \"properties\": {\n        \"dtype\": \"number\",\n        \"std\": 6.698863743294138,\n        \"min\": 4.131760597229004,\n        \"max\": 29.20108413696289,\n        \"num_unique_values\": 1708,\n        \"samples\": [\n          10.056044578552246,\n          21.651365280151367,\n          20.720422744750977\n        ],\n        \"semantic_type\": \"\",\n        \"description\": \"\"\n      }\n    },\n    {\n      \"column\": \"LREN3.SA\",\n      \"properties\": {\n        \"dtype\": \"number\",\n        \"std\": 9.403818891211653,\n        \"min\": 8.575048446655273,\n        \"max\": 48.89832305908203,\n        \"num_unique_values\": 1850,\n        \"samples\": [\n          10.464675903320312,\n          29.65241050720215,\n          16.888755798339844\n        ],\n        \"semantic_type\": \"\",\n        \"description\": \"\"\n      }\n    },\n    {\n      \"column\": \"PETR4.SA\",\n      \"properties\": {\n        \"dtype\": \"number\",\n        \"std\": 4.383181284506995,\n        \"min\": 1.3865079879760742,\n        \"max\": 24.66951560974121,\n        \"num_unique_values\": 1676,\n        \"samples\": [\n          9.495777130126953,\n          8.554121017456055,\n          5.136682987213135\n        ],\n        \"semantic_type\": \"\",\n        \"description\": \"\"\n      }\n    },\n    {\n      \"column\": \"VALE3.SA\",\n      \"properties\": {\n        \"dtype\": \"number\",\n        \"std\": 22.960606074902422,\n        \"min\": 5.136929512023926,\n        \"max\": 87.283935546875,\n        \"num_unique_values\": 1830,\n        \"samples\": [\n          5.381828784942627,\n          43.17932891845703,\n          57.087608337402344\n        ],\n        \"semantic_type\": \"\",\n        \"description\": \"\"\n      }\n    },\n    {\n      \"column\": \"WEGE3.SA\",\n      \"properties\": {\n        \"dtype\": \"number\",\n        \"std\": 12.099537989197392,\n        \"min\": 4.3121657371521,\n        \"max\": 43.572757720947266,\n        \"num_unique_values\": 1827,\n        \"samples\": [\n          4.66844367980957,\n          31.66765785217285,\n          33.11176681518555\n        ],\n        \"semantic_type\": \"\",\n        \"description\": \"\"\n      }\n    }\n  ]\n}"
            }
          },
          "metadata": {},
          "execution_count": 28
        }
      ]
    },
    {
      "cell_type": "code",
      "source": [
        "retornos = precos.pct_change().apply(lambda x: np.log(1+x)).dropna() #retorno logaritmo\n",
        "media_retornos = retornos.mean()\n",
        "matriz_cov = retornos.cov()\n"
      ],
      "metadata": {
        "id": "kDEh7faPKjTf"
      },
      "execution_count": null,
      "outputs": []
    },
    {
      "cell_type": "code",
      "source": [
        "#display(retornos)"
      ],
      "metadata": {
        "id": "ZIaqGSAXWu37"
      },
      "execution_count": null,
      "outputs": []
    },
    {
      "cell_type": "code",
      "source": [
        "#display(media_retornos)"
      ],
      "metadata": {
        "id": "VXiGgSFrWuxB"
      },
      "execution_count": null,
      "outputs": []
    },
    {
      "cell_type": "code",
      "source": [
        "#display(matriz_cov)"
      ],
      "metadata": {
        "id": "sY_kUAn9WuqQ"
      },
      "execution_count": null,
      "outputs": []
    },
    {
      "cell_type": "code",
      "source": [
        "numero_carteiras = 100000\n",
        "tabela_retornos_esperados = np.zeros(numero_carteiras)\n",
        "tabela_volatilidades_esperadas = np.zeros(numero_carteiras)\n",
        "tabela_sharpe = np.zeros(numero_carteiras)\n",
        "tabela_pesos = np.zeros((numero_carteiras, len(lista_acoes)))"
      ],
      "metadata": {
        "id": "BHrlHzinN49f"
      },
      "execution_count": 30,
      "outputs": []
    },
    {
      "cell_type": "code",
      "source": [
        "#display(tabela_retornos_esperados)"
      ],
      "metadata": {
        "id": "3N7K3UvCUbVf"
      },
      "execution_count": 31,
      "outputs": []
    },
    {
      "cell_type": "code",
      "source": [
        "#display(tabela_volatilidades_esperadas)"
      ],
      "metadata": {
        "id": "P1RrCuRPUU6-"
      },
      "execution_count": 32,
      "outputs": []
    },
    {
      "cell_type": "code",
      "source": [
        "#display(tabela_sharpe)"
      ],
      "metadata": {
        "id": "Q2ZjhPbCUUwe"
      },
      "execution_count": 33,
      "outputs": []
    },
    {
      "cell_type": "code",
      "source": [
        "#display(tabela_pesos)"
      ],
      "metadata": {
        "id": "ASpvb4GKUdYU"
      },
      "execution_count": 34,
      "outputs": []
    },
    {
      "cell_type": "code",
      "source": [
        "for k in range(numero_carteiras):\n",
        "\n",
        "  pesos = np.random.random(len(lista_acoes))\n",
        "  pesos = pesos/np.sum(pesos)\n",
        "  tabela_pesos[k, :] = pesos\n",
        "\n",
        "  tabela_retornos_esperados[k] = np.sum(media_retornos * pesos * 252)\n",
        "  tabela_volatilidades_esperadas[k] =np.sqrt(np.dot(pesos.T, np.dot(matriz_cov*252, pesos)))\n",
        "\n",
        "  tabela_sharpe[k] = tabela_retornos_esperados[k]/tabela_volatilidades_esperadas[k]"
      ],
      "metadata": {
        "id": "mgR6RiciOs_1"
      },
      "execution_count": 46,
      "outputs": []
    },
    {
      "cell_type": "code",
      "source": [
        "#display(pesos)"
      ],
      "metadata": {
        "id": "jBG5jsDNQSjB"
      },
      "execution_count": 36,
      "outputs": []
    },
    {
      "cell_type": "code",
      "source": [
        "#display(tabela_pesos)"
      ],
      "metadata": {
        "id": "zHy3ipSOQ6ke"
      },
      "execution_count": 37,
      "outputs": []
    },
    {
      "cell_type": "code",
      "source": [
        "#display(tabela_retornos_esperados)"
      ],
      "metadata": {
        "id": "PR-r2RdORBVU"
      },
      "execution_count": 38,
      "outputs": []
    },
    {
      "cell_type": "code",
      "source": [
        "#display(tabela_volatilidades_esperadas)"
      ],
      "metadata": {
        "id": "zOhU8dexREgp"
      },
      "execution_count": 39,
      "outputs": []
    },
    {
      "cell_type": "code",
      "source": [
        "#display(tabela_sharpe)"
      ],
      "metadata": {
        "id": "vGMhqAtGRI0Q"
      },
      "execution_count": 40,
      "outputs": []
    },
    {
      "cell_type": "code",
      "source": [
        "indice_do_sharpe_maximo = tabela_sharpe.argmax()\n",
        "tabela_pesos[indice_do_sharpe_maximo]"
      ],
      "metadata": {
        "colab": {
          "base_uri": "https://localhost:8080/"
        },
        "id": "TUa3md0GPG8A",
        "outputId": "c8ac7711-e8d2-4c55-df56-34590568946b"
      },
      "execution_count": 50,
      "outputs": [
        {
          "output_type": "execute_result",
          "data": {
            "text/plain": [
              "array([0.0508215 , 0.47623905, 0.01445685, 0.01059434, 0.1641827 ,\n",
              "       0.28370555])"
            ]
          },
          "metadata": {},
          "execution_count": 50
        }
      ]
    },
    {
      "cell_type": "code",
      "source": [
        "#display(indice_do_sharpe_maximo)"
      ],
      "metadata": {
        "colab": {
          "base_uri": "https://localhost:8080/",
          "height": 34
        },
        "id": "oEdEeMZ1XwyU",
        "outputId": "5c8a4f4f-9017-405c-e838-ccf559790d9e"
      },
      "execution_count": 51,
      "outputs": [
        {
          "output_type": "display_data",
          "data": {
            "text/plain": [
              "85592"
            ]
          },
          "metadata": {}
        }
      ]
    },
    {
      "cell_type": "code",
      "source": [
        "#display(tabela_pesos)"
      ],
      "metadata": {
        "colab": {
          "base_uri": "https://localhost:8080/",
          "height": 243
        },
        "id": "SnqALKp6Xquv",
        "outputId": "69d80f91-cbcb-4131-e17d-06716f248906"
      },
      "execution_count": 52,
      "outputs": [
        {
          "output_type": "display_data",
          "data": {
            "text/plain": [
              "array([[0.01529542, 0.30929723, 0.22754017, 0.32557001, 0.10815648,\n",
              "        0.01414069],\n",
              "       [0.17107676, 0.11622741, 0.09391534, 0.28775689, 0.18317434,\n",
              "        0.14784926],\n",
              "       [0.23366283, 0.32534641, 0.12413559, 0.02430357, 0.08343962,\n",
              "        0.20911198],\n",
              "       ...,\n",
              "       [0.14120665, 0.32761351, 0.2956341 , 0.10633558, 0.01031169,\n",
              "        0.11889847],\n",
              "       [0.10414701, 0.03776485, 0.25746587, 0.39458197, 0.17146813,\n",
              "        0.03457217],\n",
              "       [0.12794785, 0.21077227, 0.09367717, 0.38736785, 0.10067556,\n",
              "        0.0795593 ]])"
            ]
          },
          "metadata": {}
        }
      ]
    },
    {
      "cell_type": "code",
      "source": [],
      "metadata": {
        "id": "OuA8ku-JXqoA"
      },
      "execution_count": null,
      "outputs": []
    },
    {
      "cell_type": "code",
      "source": [
        "['WEGE3', 'LREN3', 'VALE3', 'PETR4', 'EQTL3', 'EGIE3']"
      ],
      "metadata": {
        "colab": {
          "base_uri": "https://localhost:8080/"
        },
        "id": "dE7-Tq0vPhPJ",
        "outputId": "aa72e22a-bea6-4713-fd62-6a544147f709"
      },
      "execution_count": 42,
      "outputs": [
        {
          "output_type": "execute_result",
          "data": {
            "text/plain": [
              "['WEGE3', 'LREN3', 'VALE3', 'PETR4', 'EQTL3', 'EGIE3']"
            ]
          },
          "metadata": {},
          "execution_count": 42
        }
      ]
    },
    {
      "cell_type": "code",
      "source": [
        "tabela_retornos_esperados_arit = np.exp(tabela_retornos_esperados) - 1\n",
        "tabela_retornos_esperados_arit"
      ],
      "metadata": {
        "colab": {
          "base_uri": "https://localhost:8080/"
        },
        "id": "bX1ETEjUP0N4",
        "outputId": "61a8775a-ff68-48b1-9f9d-aeb8bf371882"
      },
      "execution_count": 53,
      "outputs": [
        {
          "output_type": "execute_result",
          "data": {
            "text/plain": [
              "array([0.21091945, 0.21844038, 0.20673042, ..., 0.18688215, 0.19664741,\n",
              "       0.21902864])"
            ]
          },
          "metadata": {},
          "execution_count": 53
        }
      ]
    },
    {
      "cell_type": "code",
      "source": [
        "eixo_y_fronteira_eficiente = np.linspace(tabela_retornos_esperados_arit.min(),\n",
        "tabela_retornos_esperados_arit.max(), 50)\n",
        "\n",
        "def pegando_retorno(peso_teste):\n",
        "  peso_teste = np.array(peso_teste)\n",
        "  retorno = np.sum(media_retornos * peso_teste) * 252\n",
        "  retorno = np.exp(retorno) - 1\n",
        "\n",
        "  return retorno\n",
        "\n",
        "def checando_soma_pesos(peso_teste):\n",
        "\n",
        "  return np.sum(peso_teste)-1\n",
        "\n",
        "def pegando_vol(peso_teste):\n",
        "  peso_teste = np.array(peso_teste)\n",
        "  vol = np.sqrt(np.dot(peso_teste.T, np.dot(matriz_cov*252, peso_teste)))\n",
        "\n",
        "  return vol\n",
        "\n",
        "peso_inicial = [1/len(lista_acoes)] *len(lista_acoes)\n",
        "limites = tuple([(0, 1) for ativo in lista_acoes])\n",
        "\n",
        "eixo_x_fronteira_eficiente = []\n",
        "\n",
        "for retorno_possivel in eixo_y_fronteira_eficiente:\n",
        "\n",
        "  #vamos pegar a melhor volatilidade para cada retorno possível\n",
        "\n",
        "  restricoes = ({'type':'eq', 'fun':checando_soma_pesos},\n",
        "  {'type':'eq', 'fun': lambda w: pegando_retorno(w) - retorno_possivel})\n",
        "\n",
        "  result = minimize(pegando_vol,peso_inicial,method='SLSQP', bounds=limites,\n",
        "  constraints=restricoes)\n",
        "  eixo_x_fronteira_eficiente.append(result['fun'])"
      ],
      "metadata": {
        "id": "QNYBI49fSWks"
      },
      "execution_count": 54,
      "outputs": []
    },
    {
      "cell_type": "code",
      "source": [
        "fig, ax = plt.subplots()\n",
        "\n",
        "ax.scatter(tabela_volatilidades_esperadas, tabela_retornos_esperados_arit, c=tabela_sharpe)\n",
        "\n",
        "plt.xlabel(\"Volatilidade esperada\")\n",
        "plt.ylabel(\"Retorno esperado\")\n",
        "\n",
        "ax.xaxis.label.set_color('white')\n",
        "ax.yaxis.label.set_color('white')\n",
        "\n",
        "ax.scatter(tabela_volatilidades_esperadas[indice_do_sharpe_maximo],\n",
        "           tabela_retornos_esperados_arit[indice_do_sharpe_maximo], c= \"red\")\n",
        "ax.plot(eixo_x_fronteira_eficiente, eixo_y_fronteira_eficiente)\n",
        "\n",
        "ax.yaxis.set_major_formatter(mtick.PercentFormatter(1.0))\n",
        "ax.xaxis.set_major_formatter(mtick.PercentFormatter(1.0))\n",
        "\n",
        "ax.tick_params(axis='x', colors='white')\n",
        "ax.tick_params(axis='y', colors='white')\n",
        "\n",
        "plt.show()"
      ],
      "metadata": {
        "colab": {
          "base_uri": "https://localhost:8080/",
          "height": 450
        },
        "id": "1opdzy3uTy3y",
        "outputId": "887fcd21-dfb4-489f-aea3-a48e19729ed3"
      },
      "execution_count": 55,
      "outputs": [
        {
          "output_type": "display_data",
          "data": {
            "text/plain": [
              "<Figure size 640x480 with 1 Axes>"
            ],
            "image/png": "[encoded data removed]"
          },
          "metadata": {}
        }
      ]
    }
  ]
}